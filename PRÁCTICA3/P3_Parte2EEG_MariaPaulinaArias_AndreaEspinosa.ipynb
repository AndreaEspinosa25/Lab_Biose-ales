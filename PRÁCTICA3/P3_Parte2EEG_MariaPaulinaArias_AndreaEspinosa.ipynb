{
  "cells": [
    {
      "cell_type": "markdown",
      "source": [
        "# Comparación estadística de Energía de señales EEG"
      ],
      "metadata": {
        "id": "YgkYSUOvFYh1"
      }
    },
    {
      "cell_type": "code",
      "execution_count": 1,
      "metadata": {
        "colab": {
          "base_uri": "https://localhost:8080/"
        },
        "id": "R97btod_OZS2",
        "outputId": "bf4146f2-958b-4c05-ed48-f26c40244eb0"
      },
      "outputs": [
        {
          "output_type": "stream",
          "name": "stdout",
          "text": [
            "Mounted at /content/drive\n"
          ]
        }
      ],
      "source": [
        "from google.colab import drive\n",
        "\n",
        "import numpy as np\n",
        "import pandas as pd\n",
        "import matplotlib.pyplot as plt\n",
        "import seaborn as sns\n",
        "import scipy.io as sio\n",
        "from scipy import stats\n",
        "import os\n",
        "from scipy.stats import mannwhitneyu,levene, kstest, norm\n",
        "\n",
        "\n",
        "drive.mount('/content/drive')"
      ]
    },
    {
      "cell_type": "code",
      "execution_count": 2,
      "metadata": {
        "colab": {
          "base_uri": "https://localhost:8080/"
        },
        "id": "X6q_29B-Or9p",
        "outputId": "f2157ede-6765-46b4-82a3-19d4c8aa9a31"
      },
      "outputs": [
        {
          "output_type": "stream",
          "name": "stdout",
          "text": [
            "Archive:  datos_senales_datos_parkinson_cursos.zip\n",
            "   creating: control/\n",
            "  inflating: control/C001R_EP_reposo.mat  \n",
            "  inflating: control/C002_EP_reposo.mat  \n",
            "  inflating: control/C004_EP_reposo.mat  \n",
            "  inflating: control/C005_EP_reposo_Repetido.mat  \n",
            "  inflating: control/C006_EP_reposo.mat  \n",
            "  inflating: control/C007_EP_reposo.mat  \n",
            "  inflating: control/C010_EP_reposo.mat  \n",
            "  inflating: control/C011_EP_reposo.mat  \n",
            "  inflating: control/C012_EP_reposo.mat  \n",
            "  inflating: control/C013_EP_reposo.mat  \n",
            "  inflating: control/C015_EP_reposo.mat  \n",
            "  inflating: control/C018_EP_reposo.mat  \n",
            "  inflating: control/C019_EP_reposo.mat  \n",
            "  inflating: control/C020_EP_reposo.mat  \n",
            "  inflating: control/C021_EP_reposo.mat  \n",
            "  inflating: control/C023_EP_reposo.mat  \n",
            "  inflating: control/C024_EP_reposo.mat  \n",
            "  inflating: control/C025_EP_reposo.mat  \n",
            "  inflating: control/C026_EP_reposo.mat  \n",
            "  inflating: control/C027_EP_reposo.mat  \n",
            "  inflating: control/C028_EP_reposo.mat  \n",
            "  inflating: control/C029_EP_reposo.mat  \n",
            "  inflating: control/C030_EP_reposo.mat  \n",
            "  inflating: control/C031_EP_reposo.mat  \n",
            "  inflating: control/C032_EP_reposo.mat  \n",
            "  inflating: control/C033R_EP_reposo.mat  \n",
            "  inflating: control/C034_EP_reposo.mat  \n",
            "  inflating: control/C036_EP_reposo.mat  \n",
            "  inflating: control/C037_EP_reposo.mat  \n",
            "  inflating: control/C040_EP_reposo.mat  \n",
            "  inflating: control/C041_EP_reposo.mat  \n",
            "  inflating: control/C042_EP_reposo.mat  \n",
            "  inflating: control/C044_EP_reposo.mat  \n",
            "  inflating: control/C045_EP_reposo.mat  \n",
            "  inflating: control/C046_EP_reposo.mat  \n",
            "  inflating: control/C049_EP_reposo.mat  \n",
            "   creating: parkinson/\n",
            "  inflating: parkinson/P001_EP_reposo.mat  \n",
            "  inflating: parkinson/P004_EP_reposo.mat  \n",
            "  inflating: parkinson/P005_EP_reposo.mat  \n",
            "  inflating: parkinson/P007_EP_reposo.mat  \n",
            "  inflating: parkinson/P012_EP_reposo.mat  \n",
            "  inflating: parkinson/P013_EP_reposo.mat  \n",
            "  inflating: parkinson/P015_EP_reposo.mat  \n",
            "  inflating: parkinson/P016_EP_reposo.mat  \n",
            "  inflating: parkinson/P017_EP_reposo.mat  \n",
            "  inflating: parkinson/P018_EP_reposo.mat  \n",
            "  inflating: parkinson/P020_EP_reposo.mat  \n",
            "  inflating: parkinson/P025_EP_reposo.mat  \n",
            "  inflating: parkinson/P026_EP_reposo.mat  \n",
            "  inflating: parkinson/P028_EP_reposo.mat  \n",
            "  inflating: parkinson/P030_EP_reposo.mat  \n",
            "  inflating: parkinson/P032_EP_reposo.mat  \n",
            "  inflating: parkinson/P033_EP_reposo.mat  \n",
            "  inflating: parkinson/P034_EP_reposo.mat  \n",
            "  inflating: parkinson/P040_EP_reposo.mat  \n",
            "  inflating: parkinson/P041_EP_reposo.mat  \n",
            "  inflating: parkinson/P046_EP_reposo.mat  \n",
            "  inflating: parkinson/P048_EP_reposo.mat  \n",
            "  inflating: parkinson/P049_EP_reposo.mat  \n"
          ]
        }
      ],
      "source": [
        "# Importar archivos .mat que contienen las señales desde el .zip\n",
        "\n",
        "!cp /content/drive/MyDrive/Colab_Notebooks/datos_senales_datos_parkinson_cursos.zip .\n",
        "!unzip datos_senales_datos_parkinson_cursos.zip\n"
      ]
    },
    {
      "cell_type": "code",
      "execution_count": 3,
      "metadata": {
        "colab": {
          "base_uri": "https://localhost:8080/"
        },
        "id": "nWwJ9HWIRrTR",
        "outputId": "6def304a-a1c5-4d00-df52-4be9a0d35579"
      },
      "outputs": [
        {
          "output_type": "stream",
          "name": "stdout",
          "text": [
            "/content\n"
          ]
        }
      ],
      "source": [
        "directorio_actual = os.getcwd()\n",
        "print(directorio_actual)"
      ]
    },
    {
      "cell_type": "code",
      "source": [
        "archivos_control = os.listdir(directorio_actual+\"/control\")\n",
        "print(f'Hay {len(archivos_control)} archivos control')\n",
        "archivos_parkinson = os.listdir(directorio_actual+\"/parkinson\")\n",
        "print(f'Hay {len(archivos_parkinson)} archivos parkinson')"
      ],
      "metadata": {
        "colab": {
          "base_uri": "https://localhost:8080/"
        },
        "id": "PlJeGpHcZJgl",
        "outputId": "e66e5c33-6098-4e4b-9857-97ff96f40f45"
      },
      "execution_count": 4,
      "outputs": [
        {
          "output_type": "stream",
          "name": "stdout",
          "text": [
            "Hay 36 archivos control\n",
            "Hay 23 archivos parkinson\n"
          ]
        }
      ]
    },
    {
      "cell_type": "code",
      "source": [
        "for archivo in archivos_control:\n",
        "  path_subjecti = (directorio_actual + \"/control\"+\"/\"+archivo)\n",
        "  #Cargar archivo\n",
        "  data = sio.loadmat(path_subjecti)\n",
        "  data = data['data']\n",
        "\n",
        "  #Características\n",
        "  print(f'\\nArchivo: {archivo}')\n",
        "  print(f'Tipo de variable cargada: {str(type(data))}')\n",
        "  print(f'Dimensiones de los datos cargados: {str(data.shape)}')\n",
        "  print(f'Número de dimensiones: {str(data.ndim)}')\n",
        "  print(f'Tamaño: {str(data.size)}')\n",
        "  print(f'Tamaño de memoria (bytes): {str(data.nbytes)}')"
      ],
      "metadata": {
        "colab": {
          "base_uri": "https://localhost:8080/"
        },
        "id": "jZmi1izTZJeS",
        "outputId": "3a74a3cf-f94a-4d9c-c47d-ebffb77969f6"
      },
      "execution_count": 5,
      "outputs": [
        {
          "output_type": "stream",
          "name": "stdout",
          "text": [
            "\n",
            "Archivo: C036_EP_reposo.mat\n",
            "Tipo de variable cargada: <class 'numpy.ndarray'>\n",
            "Dimensiones de los datos cargados: (8, 2000, 147)\n",
            "Número de dimensiones: 3\n",
            "Tamaño: 2352000\n",
            "Tamaño de memoria (bytes): 18816000\n",
            "\n",
            "Archivo: C037_EP_reposo.mat\n",
            "Tipo de variable cargada: <class 'numpy.ndarray'>\n",
            "Dimensiones de los datos cargados: (8, 2000, 181)\n",
            "Número de dimensiones: 3\n",
            "Tamaño: 2896000\n",
            "Tamaño de memoria (bytes): 23168000\n",
            "\n",
            "Archivo: C025_EP_reposo.mat\n",
            "Tipo de variable cargada: <class 'numpy.ndarray'>\n",
            "Dimensiones de los datos cargados: (8, 2000, 154)\n",
            "Número de dimensiones: 3\n",
            "Tamaño: 2464000\n",
            "Tamaño de memoria (bytes): 19712000\n",
            "\n",
            "Archivo: C042_EP_reposo.mat\n",
            "Tipo de variable cargada: <class 'numpy.ndarray'>\n",
            "Dimensiones de los datos cargados: (8, 2000, 167)\n",
            "Número de dimensiones: 3\n",
            "Tamaño: 2672000\n",
            "Tamaño de memoria (bytes): 21376000\n",
            "\n",
            "Archivo: C010_EP_reposo.mat\n",
            "Tipo de variable cargada: <class 'numpy.ndarray'>\n",
            "Dimensiones de los datos cargados: (8, 2000, 136)\n",
            "Número de dimensiones: 3\n",
            "Tamaño: 2176000\n",
            "Tamaño de memoria (bytes): 17408000\n",
            "\n",
            "Archivo: C024_EP_reposo.mat\n",
            "Tipo de variable cargada: <class 'numpy.ndarray'>\n",
            "Dimensiones de los datos cargados: (8, 2000, 186)\n",
            "Número de dimensiones: 3\n",
            "Tamaño: 2976000\n",
            "Tamaño de memoria (bytes): 23808000\n",
            "\n",
            "Archivo: C028_EP_reposo.mat\n",
            "Tipo de variable cargada: <class 'numpy.ndarray'>\n",
            "Dimensiones de los datos cargados: (8, 2000, 169)\n",
            "Número de dimensiones: 3\n",
            "Tamaño: 2704000\n",
            "Tamaño de memoria (bytes): 21632000\n",
            "\n",
            "Archivo: C049_EP_reposo.mat\n",
            "Tipo de variable cargada: <class 'numpy.ndarray'>\n",
            "Dimensiones de los datos cargados: (8, 2000, 184)\n",
            "Número de dimensiones: 3\n",
            "Tamaño: 2944000\n",
            "Tamaño de memoria (bytes): 23552000\n",
            "\n",
            "Archivo: C001R_EP_reposo.mat\n",
            "Tipo de variable cargada: <class 'numpy.ndarray'>\n",
            "Dimensiones de los datos cargados: (8, 2000, 180)\n",
            "Número de dimensiones: 3\n",
            "Tamaño: 2880000\n",
            "Tamaño de memoria (bytes): 23040000\n",
            "\n",
            "Archivo: C013_EP_reposo.mat\n",
            "Tipo de variable cargada: <class 'numpy.ndarray'>\n",
            "Dimensiones de los datos cargados: (8, 2000, 175)\n",
            "Número de dimensiones: 3\n",
            "Tamaño: 2800000\n",
            "Tamaño de memoria (bytes): 22400000\n",
            "\n",
            "Archivo: C006_EP_reposo.mat\n",
            "Tipo de variable cargada: <class 'numpy.ndarray'>\n",
            "Dimensiones de los datos cargados: (8, 2000, 168)\n",
            "Número de dimensiones: 3\n",
            "Tamaño: 2688000\n",
            "Tamaño de memoria (bytes): 21504000\n",
            "\n",
            "Archivo: C041_EP_reposo.mat\n",
            "Tipo de variable cargada: <class 'numpy.ndarray'>\n",
            "Dimensiones de los datos cargados: (8, 2000, 203)\n",
            "Número de dimensiones: 3\n",
            "Tamaño: 3248000\n",
            "Tamaño de memoria (bytes): 25984000\n",
            "\n",
            "Archivo: C033R_EP_reposo.mat\n",
            "Tipo de variable cargada: <class 'numpy.ndarray'>\n",
            "Dimensiones de los datos cargados: (8, 2000, 189)\n",
            "Número de dimensiones: 3\n",
            "Tamaño: 3024000\n",
            "Tamaño de memoria (bytes): 24192000\n",
            "\n",
            "Archivo: C032_EP_reposo.mat\n",
            "Tipo de variable cargada: <class 'numpy.ndarray'>\n",
            "Dimensiones de los datos cargados: (8, 2000, 163)\n",
            "Número de dimensiones: 3\n",
            "Tamaño: 2608000\n",
            "Tamaño de memoria (bytes): 20864000\n",
            "\n",
            "Archivo: C005_EP_reposo_Repetido.mat\n",
            "Tipo de variable cargada: <class 'numpy.ndarray'>\n",
            "Dimensiones de los datos cargados: (8, 2000, 149)\n",
            "Número de dimensiones: 3\n",
            "Tamaño: 2384000\n",
            "Tamaño de memoria (bytes): 19072000\n",
            "\n",
            "Archivo: C004_EP_reposo.mat\n",
            "Tipo de variable cargada: <class 'numpy.ndarray'>\n",
            "Dimensiones de los datos cargados: (8, 2000, 146)\n",
            "Número de dimensiones: 3\n",
            "Tamaño: 2336000\n",
            "Tamaño de memoria (bytes): 18688000\n",
            "\n",
            "Archivo: C020_EP_reposo.mat\n",
            "Tipo de variable cargada: <class 'numpy.ndarray'>\n",
            "Dimensiones de los datos cargados: (8, 2000, 166)\n",
            "Número de dimensiones: 3\n",
            "Tamaño: 2656000\n",
            "Tamaño de memoria (bytes): 21248000\n",
            "\n",
            "Archivo: C012_EP_reposo.mat\n",
            "Tipo de variable cargada: <class 'numpy.ndarray'>\n",
            "Dimensiones de los datos cargados: (8, 2000, 172)\n",
            "Número de dimensiones: 3\n",
            "Tamaño: 2752000\n",
            "Tamaño de memoria (bytes): 22016000\n",
            "\n",
            "Archivo: C007_EP_reposo.mat\n",
            "Tipo de variable cargada: <class 'numpy.ndarray'>\n",
            "Dimensiones de los datos cargados: (8, 2000, 173)\n",
            "Número de dimensiones: 3\n",
            "Tamaño: 2768000\n",
            "Tamaño de memoria (bytes): 22144000\n",
            "\n",
            "Archivo: C011_EP_reposo.mat\n",
            "Tipo de variable cargada: <class 'numpy.ndarray'>\n",
            "Dimensiones de los datos cargados: (8, 2000, 173)\n",
            "Número de dimensiones: 3\n",
            "Tamaño: 2768000\n",
            "Tamaño de memoria (bytes): 22144000\n",
            "\n",
            "Archivo: C019_EP_reposo.mat\n",
            "Tipo de variable cargada: <class 'numpy.ndarray'>\n",
            "Dimensiones de los datos cargados: (8, 2000, 179)\n",
            "Número de dimensiones: 3\n",
            "Tamaño: 2864000\n",
            "Tamaño de memoria (bytes): 22912000\n",
            "\n",
            "Archivo: C045_EP_reposo.mat\n",
            "Tipo de variable cargada: <class 'numpy.ndarray'>\n",
            "Dimensiones de los datos cargados: (8, 2000, 161)\n",
            "Número de dimensiones: 3\n",
            "Tamaño: 2576000\n",
            "Tamaño de memoria (bytes): 20608000\n",
            "\n",
            "Archivo: C030_EP_reposo.mat\n",
            "Tipo de variable cargada: <class 'numpy.ndarray'>\n",
            "Dimensiones de los datos cargados: (8, 2000, 144)\n",
            "Número de dimensiones: 3\n",
            "Tamaño: 2304000\n",
            "Tamaño de memoria (bytes): 18432000\n",
            "\n",
            "Archivo: C040_EP_reposo.mat\n",
            "Tipo de variable cargada: <class 'numpy.ndarray'>\n",
            "Dimensiones de los datos cargados: (8, 2000, 187)\n",
            "Número de dimensiones: 3\n",
            "Tamaño: 2992000\n",
            "Tamaño de memoria (bytes): 23936000\n",
            "\n",
            "Archivo: C018_EP_reposo.mat\n",
            "Tipo de variable cargada: <class 'numpy.ndarray'>\n",
            "Dimensiones de los datos cargados: (8, 2000, 157)\n",
            "Número de dimensiones: 3\n",
            "Tamaño: 2512000\n",
            "Tamaño de memoria (bytes): 20096000\n",
            "\n",
            "Archivo: C034_EP_reposo.mat\n",
            "Tipo de variable cargada: <class 'numpy.ndarray'>\n",
            "Dimensiones de los datos cargados: (8, 2000, 173)\n",
            "Número de dimensiones: 3\n",
            "Tamaño: 2768000\n",
            "Tamaño de memoria (bytes): 22144000\n",
            "\n",
            "Archivo: C031_EP_reposo.mat\n",
            "Tipo de variable cargada: <class 'numpy.ndarray'>\n",
            "Dimensiones de los datos cargados: (8, 2000, 178)\n",
            "Número de dimensiones: 3\n",
            "Tamaño: 2848000\n",
            "Tamaño de memoria (bytes): 22784000\n",
            "\n",
            "Archivo: C026_EP_reposo.mat\n",
            "Tipo de variable cargada: <class 'numpy.ndarray'>\n",
            "Dimensiones de los datos cargados: (8, 2000, 154)\n",
            "Número de dimensiones: 3\n",
            "Tamaño: 2464000\n",
            "Tamaño de memoria (bytes): 19712000\n",
            "\n",
            "Archivo: C015_EP_reposo.mat\n",
            "Tipo de variable cargada: <class 'numpy.ndarray'>\n",
            "Dimensiones de los datos cargados: (8, 2000, 140)\n",
            "Número de dimensiones: 3\n",
            "Tamaño: 2240000\n",
            "Tamaño de memoria (bytes): 17920000\n",
            "\n",
            "Archivo: C044_EP_reposo.mat\n",
            "Tipo de variable cargada: <class 'numpy.ndarray'>\n",
            "Dimensiones de los datos cargados: (8, 2000, 258)\n",
            "Número de dimensiones: 3\n",
            "Tamaño: 4128000\n",
            "Tamaño de memoria (bytes): 33024000\n",
            "\n",
            "Archivo: C027_EP_reposo.mat\n",
            "Tipo de variable cargada: <class 'numpy.ndarray'>\n",
            "Dimensiones de los datos cargados: (8, 2000, 142)\n",
            "Número de dimensiones: 3\n",
            "Tamaño: 2272000\n",
            "Tamaño de memoria (bytes): 18176000\n",
            "\n",
            "Archivo: C046_EP_reposo.mat\n",
            "Tipo de variable cargada: <class 'numpy.ndarray'>\n",
            "Dimensiones de los datos cargados: (8, 2000, 164)\n",
            "Número de dimensiones: 3\n",
            "Tamaño: 2624000\n",
            "Tamaño de memoria (bytes): 20992000\n",
            "\n",
            "Archivo: C002_EP_reposo.mat\n",
            "Tipo de variable cargada: <class 'numpy.ndarray'>\n",
            "Dimensiones de los datos cargados: (8, 2000, 176)\n",
            "Número de dimensiones: 3\n",
            "Tamaño: 2816000\n",
            "Tamaño de memoria (bytes): 22528000\n",
            "\n",
            "Archivo: C023_EP_reposo.mat\n",
            "Tipo de variable cargada: <class 'numpy.ndarray'>\n",
            "Dimensiones de los datos cargados: (8, 2000, 206)\n",
            "Número de dimensiones: 3\n",
            "Tamaño: 3296000\n",
            "Tamaño de memoria (bytes): 26368000\n",
            "\n",
            "Archivo: C021_EP_reposo.mat\n",
            "Tipo de variable cargada: <class 'numpy.ndarray'>\n",
            "Dimensiones de los datos cargados: (8, 2000, 180)\n",
            "Número de dimensiones: 3\n",
            "Tamaño: 2880000\n",
            "Tamaño de memoria (bytes): 23040000\n",
            "\n",
            "Archivo: C029_EP_reposo.mat\n",
            "Tipo de variable cargada: <class 'numpy.ndarray'>\n",
            "Dimensiones de los datos cargados: (8, 2000, 160)\n",
            "Número de dimensiones: 3\n",
            "Tamaño: 2560000\n",
            "Tamaño de memoria (bytes): 20480000\n"
          ]
        }
      ]
    },
    {
      "cell_type": "code",
      "source": [
        "for archivo in archivos_parkinson:\n",
        "  path_subjecti = (directorio_actual + \"/parkinson\"+\"/\"+archivo)\n",
        "  #Cargar archivo\n",
        "  data = sio.loadmat(path_subjecti)\n",
        "  data = data['data']\n",
        "\n",
        "  #Características\n",
        "  print(f'\\nArchivo: {archivo}')\n",
        "  print(f'Tipo de variable cargada: {str(type(data))}')\n",
        "  print(f'Dimensiones de los datos cargados: {str(data.shape)}')\n",
        "  print(f'Número de dimensiones: {str(data.ndim)}')\n",
        "  print(f'Tamaño: {str(data.size)}')\n",
        "  print(f'Tamaño de memoria (bytes): {str(data.nbytes)}')"
      ],
      "metadata": {
        "colab": {
          "base_uri": "https://localhost:8080/"
        },
        "id": "MVqYsvXobdd6",
        "outputId": "adb56989-2dae-4c4b-958c-5dedfe543938"
      },
      "execution_count": 6,
      "outputs": [
        {
          "output_type": "stream",
          "name": "stdout",
          "text": [
            "\n",
            "Archivo: P030_EP_reposo.mat\n",
            "Tipo de variable cargada: <class 'numpy.ndarray'>\n",
            "Dimensiones de los datos cargados: (8, 2000, 171)\n",
            "Número de dimensiones: 3\n",
            "Tamaño: 2736000\n",
            "Tamaño de memoria (bytes): 21888000\n",
            "\n",
            "Archivo: P026_EP_reposo.mat\n",
            "Tipo de variable cargada: <class 'numpy.ndarray'>\n",
            "Dimensiones de los datos cargados: (8, 2000, 142)\n",
            "Número de dimensiones: 3\n",
            "Tamaño: 2272000\n",
            "Tamaño de memoria (bytes): 18176000\n",
            "\n",
            "Archivo: P017_EP_reposo.mat\n",
            "Tipo de variable cargada: <class 'numpy.ndarray'>\n",
            "Dimensiones de los datos cargados: (8, 2000, 176)\n",
            "Número de dimensiones: 3\n",
            "Tamaño: 2816000\n",
            "Tamaño de memoria (bytes): 22528000\n",
            "\n",
            "Archivo: P013_EP_reposo.mat\n",
            "Tipo de variable cargada: <class 'numpy.ndarray'>\n",
            "Dimensiones de los datos cargados: (8, 2000, 143)\n",
            "Número de dimensiones: 3\n",
            "Tamaño: 2288000\n",
            "Tamaño de memoria (bytes): 18304000\n",
            "\n",
            "Archivo: P016_EP_reposo.mat\n",
            "Tipo de variable cargada: <class 'numpy.ndarray'>\n",
            "Dimensiones de los datos cargados: (8, 2000, 150)\n",
            "Número de dimensiones: 3\n",
            "Tamaño: 2400000\n",
            "Tamaño de memoria (bytes): 19200000\n",
            "\n",
            "Archivo: P007_EP_reposo.mat\n",
            "Tipo de variable cargada: <class 'numpy.ndarray'>\n",
            "Dimensiones de los datos cargados: (8, 2000, 153)\n",
            "Número de dimensiones: 3\n",
            "Tamaño: 2448000\n",
            "Tamaño de memoria (bytes): 19584000\n",
            "\n",
            "Archivo: P015_EP_reposo.mat\n",
            "Tipo de variable cargada: <class 'numpy.ndarray'>\n",
            "Dimensiones de los datos cargados: (8, 2000, 147)\n",
            "Número de dimensiones: 3\n",
            "Tamaño: 2352000\n",
            "Tamaño de memoria (bytes): 18816000\n",
            "\n",
            "Archivo: P046_EP_reposo.mat\n",
            "Tipo de variable cargada: <class 'numpy.ndarray'>\n",
            "Dimensiones de los datos cargados: (8, 2000, 167)\n",
            "Número de dimensiones: 3\n",
            "Tamaño: 2672000\n",
            "Tamaño de memoria (bytes): 21376000\n",
            "\n",
            "Archivo: P020_EP_reposo.mat\n",
            "Tipo de variable cargada: <class 'numpy.ndarray'>\n",
            "Dimensiones de los datos cargados: (8, 2000, 140)\n",
            "Número de dimensiones: 3\n",
            "Tamaño: 2240000\n",
            "Tamaño de memoria (bytes): 17920000\n",
            "\n",
            "Archivo: P048_EP_reposo.mat\n",
            "Tipo de variable cargada: <class 'numpy.ndarray'>\n",
            "Dimensiones de los datos cargados: (8, 2000, 162)\n",
            "Número de dimensiones: 3\n",
            "Tamaño: 2592000\n",
            "Tamaño de memoria (bytes): 20736000\n",
            "\n",
            "Archivo: P025_EP_reposo.mat\n",
            "Tipo de variable cargada: <class 'numpy.ndarray'>\n",
            "Dimensiones de los datos cargados: (8, 2000, 154)\n",
            "Número de dimensiones: 3\n",
            "Tamaño: 2464000\n",
            "Tamaño de memoria (bytes): 19712000\n",
            "\n",
            "Archivo: P005_EP_reposo.mat\n",
            "Tipo de variable cargada: <class 'numpy.ndarray'>\n",
            "Dimensiones de los datos cargados: (8, 2000, 174)\n",
            "Número de dimensiones: 3\n",
            "Tamaño: 2784000\n",
            "Tamaño de memoria (bytes): 22272000\n",
            "\n",
            "Archivo: P049_EP_reposo.mat\n",
            "Tipo de variable cargada: <class 'numpy.ndarray'>\n",
            "Dimensiones de los datos cargados: (8, 2000, 170)\n",
            "Número de dimensiones: 3\n",
            "Tamaño: 2720000\n",
            "Tamaño de memoria (bytes): 21760000\n",
            "\n",
            "Archivo: P033_EP_reposo.mat\n",
            "Tipo de variable cargada: <class 'numpy.ndarray'>\n",
            "Dimensiones de los datos cargados: (8, 2000, 154)\n",
            "Número de dimensiones: 3\n",
            "Tamaño: 2464000\n",
            "Tamaño de memoria (bytes): 19712000\n",
            "\n",
            "Archivo: P004_EP_reposo.mat\n",
            "Tipo de variable cargada: <class 'numpy.ndarray'>\n",
            "Dimensiones de los datos cargados: (8, 2000, 138)\n",
            "Número de dimensiones: 3\n",
            "Tamaño: 2208000\n",
            "Tamaño de memoria (bytes): 17664000\n",
            "\n",
            "Archivo: P028_EP_reposo.mat\n",
            "Tipo de variable cargada: <class 'numpy.ndarray'>\n",
            "Dimensiones de los datos cargados: (8, 2000, 174)\n",
            "Número de dimensiones: 3\n",
            "Tamaño: 2784000\n",
            "Tamaño de memoria (bytes): 22272000\n",
            "\n",
            "Archivo: P034_EP_reposo.mat\n",
            "Tipo de variable cargada: <class 'numpy.ndarray'>\n",
            "Dimensiones de los datos cargados: (8, 2000, 159)\n",
            "Número de dimensiones: 3\n",
            "Tamaño: 2544000\n",
            "Tamaño de memoria (bytes): 20352000\n",
            "\n",
            "Archivo: P001_EP_reposo.mat\n",
            "Tipo de variable cargada: <class 'numpy.ndarray'>\n",
            "Dimensiones de los datos cargados: (8, 2000, 143)\n",
            "Número de dimensiones: 3\n",
            "Tamaño: 2288000\n",
            "Tamaño de memoria (bytes): 18304000\n",
            "\n",
            "Archivo: P041_EP_reposo.mat\n",
            "Tipo de variable cargada: <class 'numpy.ndarray'>\n",
            "Dimensiones de los datos cargados: (8, 2000, 157)\n",
            "Número de dimensiones: 3\n",
            "Tamaño: 2512000\n",
            "Tamaño de memoria (bytes): 20096000\n",
            "\n",
            "Archivo: P018_EP_reposo.mat\n",
            "Tipo de variable cargada: <class 'numpy.ndarray'>\n",
            "Dimensiones de los datos cargados: (8, 2000, 149)\n",
            "Número de dimensiones: 3\n",
            "Tamaño: 2384000\n",
            "Tamaño de memoria (bytes): 19072000\n",
            "\n",
            "Archivo: P032_EP_reposo.mat\n",
            "Tipo de variable cargada: <class 'numpy.ndarray'>\n",
            "Dimensiones de los datos cargados: (8, 2000, 164)\n",
            "Número de dimensiones: 3\n",
            "Tamaño: 2624000\n",
            "Tamaño de memoria (bytes): 20992000\n",
            "\n",
            "Archivo: P040_EP_reposo.mat\n",
            "Tipo de variable cargada: <class 'numpy.ndarray'>\n",
            "Dimensiones de los datos cargados: (8, 2000, 198)\n",
            "Número de dimensiones: 3\n",
            "Tamaño: 3168000\n",
            "Tamaño de memoria (bytes): 25344000\n",
            "\n",
            "Archivo: P012_EP_reposo.mat\n",
            "Tipo de variable cargada: <class 'numpy.ndarray'>\n",
            "Dimensiones de los datos cargados: (8, 2000, 140)\n",
            "Número de dimensiones: 3\n",
            "Tamaño: 2240000\n",
            "Tamaño de memoria (bytes): 17920000\n"
          ]
        }
      ]
    },
    {
      "cell_type": "markdown",
      "source": [
        "##**Implementación de una función que reciba una señal de múltiples canales y épocas y calcule la energía promedio de cada canal**\n",
        "\n",
        "La energía de las señales de EEG puede conducir a diferenciar entre señales de pacientes con enfermedad de Parkinson y sanos. Se pide calcular la Energía promedio por grupo poblacional de cada canal.\n"
      ],
      "metadata": {
        "id": "txb411n3ccoz"
      }
    },
    {
      "cell_type": "code",
      "source": [
        "def energiaPromedio(vector):\n",
        "  canales, puntos, epocas = vector.shape\n",
        "\n",
        "  energia_epocas = np.sum(vector**2,axis=1)\n",
        "\n",
        "  energia_prom = np.mean(energia_epocas,axis=1)\n",
        "\n",
        "  return energia_prom"
      ],
      "metadata": {
        "id": "3cBGA7TUcb9P"
      },
      "execution_count": 7,
      "outputs": []
    },
    {
      "cell_type": "markdown",
      "source": [
        "Energía de cada canal promedidada por épocas para cada sujeto (para ambos grupos poblacionales)."
      ],
      "metadata": {
        "id": "6fPWof01du7s"
      }
    },
    {
      "cell_type": "code",
      "source": [
        "def energia_prom_sujetos(path):\n",
        "  archivos = os.listdir(path)\n",
        "\n",
        "  #Matriz para almacenar E prom de cada sujeto\n",
        "  matriz_energias = np.zeros((len(archivos),8))\n",
        "\n",
        "  for i, archivo in enumerate(archivos):\n",
        "    #Cargar archivo .mat\n",
        "\n",
        "    data = sio.loadmat(os.path.join(path,archivo))['data']\n",
        "    #print(\"Las llaves son \"+ str(data.keys()))    #__header__: bytes, __version__:str, __globals__:lista, data:diccionario\n",
        "\n",
        "    #Calcular E prom para canal\n",
        "    energias_promedio = energiaPromedio(data)\n",
        "\n",
        "    #Almacenar E prom\n",
        "    matriz_energias[i,:] = energias_promedio\n",
        "\n",
        "  return matriz_energias"
      ],
      "metadata": {
        "id": "sCCn5258dSfi"
      },
      "execution_count": 8,
      "outputs": []
    },
    {
      "cell_type": "markdown",
      "source": [
        "Guardar la información de la Energía promediadad de cada canal promediadad por épocas en un DataFrame de columnas 'canal' y filas 'sujeto' con los valores de energía calculados."
      ],
      "metadata": {
        "id": "dlzCUiQrJSTY"
      }
    },
    {
      "cell_type": "code",
      "source": [
        "#Directorio de los sujetos control y parkinson\n",
        "path_control = os.getcwd()+\"/control\"\n",
        "path_parkinson = os.getcwd()+'/parkinson'\n",
        "\n",
        "#Energías prom por canal y sujeto\n",
        "energia_controles = energia_prom_sujetos(path_control)\n",
        "energia_parkinson = energia_prom_sujetos(path_parkinson)\n"
      ],
      "metadata": {
        "id": "px0zsR5eebQc"
      },
      "execution_count": 9,
      "outputs": []
    },
    {
      "cell_type": "code",
      "source": [
        "import re\n",
        "num_canales=8\n",
        "# Creación de DataFrames para ambos grupos\n",
        "#print(energia_controles)\n",
        "dfcontrol = pd.DataFrame(energia_controles, columns=['Canal 1','Canal 2','Canal 3','Canal 4','Canal 5','Canal 6','Canal 7','Canal 8'])\n",
        "dfparkinson = pd.DataFrame(energia_parkinson, columns=['Canal 1','Canal 2','Canal 3','Canal 4','Canal 5','Canal 6','Canal 7','Canal 8'])\n",
        "\n",
        "#Agregar columna sujeto\n",
        "dfcontrol['sujeto'] = archivos_control\n",
        "dfparkinson['sujeto'] = archivos_parkinson\n",
        "\n",
        "dfparkinson.set_index('sujeto',inplace=True)\n",
        "dfcontrol.set_index('sujeto',inplace=True)\n",
        "\n",
        "dfcontrol.index = dfcontrol.index.str.extract(r'(\\d+)')[0].dropna()\n",
        "dfparkinson.index = dfparkinson.index.str.extract(r'(\\d+)')[0].dropna()\n",
        "\n",
        "# Convertir los índices a tipo numérico (int)\n",
        "dfcontrol.index = pd.to_numeric(dfcontrol.index, errors='coerce').astype(int)\n",
        "dfparkinson.index = pd.to_numeric(dfparkinson.index, errors='coerce').astype(int)\n",
        "\n",
        "dfcontrol.index.name = '# Sujeto'\n",
        "dfparkinson.index.name = '# Sujeto'\n",
        "\n",
        "# Ordenar los DataFrames por el índice en orden ascendente\n",
        "dfcontrol.sort_index(inplace=True)\n",
        "dfparkinson.sort_index(inplace=True)\n",
        "\n",
        "print(dfcontrol)\n",
        "print(\"\\n\")\n",
        "print(dfparkinson)"
      ],
      "metadata": {
        "colab": {
          "base_uri": "https://localhost:8080/"
        },
        "id": "Xy0spmR8hslI",
        "outputId": "26ec7c78-1696-4242-e51e-4e6a2d86e9ea"
      },
      "execution_count": 10,
      "outputs": [
        {
          "output_type": "stream",
          "name": "stdout",
          "text": [
            "               Canal 1       Canal 2       Canal 3       Canal 4  \\\n",
            "# Sujeto                                                           \n",
            "1         21465.650358  20985.907912  22760.149588  18505.640284   \n",
            "2         15966.402868  17617.810248  20804.937129  19654.400017   \n",
            "4         14148.673322  18283.999666  28749.932148  14270.726911   \n",
            "5         35311.301696  34916.686010  38800.429029  35427.031127   \n",
            "6         18510.829979  19738.489375  20911.792748  21828.254399   \n",
            "7         13180.109317  13925.217812  16218.994223  12324.883659   \n",
            "10        11197.554574  10948.368805  12737.004665  10745.161921   \n",
            "11        28551.124065  26204.839254  17383.998956  17244.605933   \n",
            "12         9133.036290   9214.155028  11626.411811  10809.621612   \n",
            "13        47166.556798  55107.798641  52286.884667  34682.656928   \n",
            "15        17567.465030  21738.511853  29429.308030  28530.200793   \n",
            "18        31250.507507  24222.776323  28298.111428  25378.777621   \n",
            "19        34036.502777  35276.242239  37728.034174  30403.012785   \n",
            "20         4915.062778   6105.849947   5167.552339   4137.717862   \n",
            "21        25807.598672  31148.334573  28640.385345  21025.777687   \n",
            "23        15536.232499  27171.554335  31295.123356  22037.159698   \n",
            "24        33100.991142  37083.630148  48210.820005  37758.393155   \n",
            "25        54139.262123  49105.618777  53194.129654  57224.244039   \n",
            "26         7053.495371   6483.359552   6733.630592   6466.650688   \n",
            "27         9702.573235   8310.599134  11274.177917   7138.981899   \n",
            "28        16237.836551  12899.899544  12386.284718  12167.858008   \n",
            "29        13352.558858  12079.042337  12056.752677  13537.102069   \n",
            "30        11920.628977  12381.108138  11545.897906  11616.229122   \n",
            "31        14798.253355  25379.940073  14356.020122  12288.656607   \n",
            "32        23331.449171  21794.167460  20057.059370  18703.362284   \n",
            "33        11840.210442  26452.547613  15211.335701  12976.758727   \n",
            "34        45453.734066  42660.225279  44139.445078  50829.933680   \n",
            "36        10717.179591   8678.364937   2837.929418   4247.197699   \n",
            "37        27648.962740  30316.594962  37591.351773  25811.252034   \n",
            "40        32321.272932  37703.798749  42613.972372  29252.410036   \n",
            "41        27406.189072  21049.882057  45082.411879  49492.678794   \n",
            "42        44475.710242  68589.716078  77481.958140  79786.695885   \n",
            "44        16525.863562  18074.712395  25064.807854  22946.351737   \n",
            "45        11419.720480  13899.308168  15693.423491   9310.798253   \n",
            "46        16272.826799  13075.926126  13775.441563  12795.198591   \n",
            "49        21064.909655  17704.075393  18305.622532  22438.444791   \n",
            "\n",
            "               Canal 5        Canal 6        Canal 7        Canal 8  \n",
            "# Sujeto                                                             \n",
            "1         29730.163026   25244.158073   22781.327587   24658.599512  \n",
            "2         16678.982063   93894.049009   66862.496275   75685.125872  \n",
            "4         28787.445978   14661.417740   15940.154095   19499.898656  \n",
            "5         35905.472869  106598.128152  106885.575966  112520.750636  \n",
            "6         23351.992649   53086.059766   37495.972475   43067.095504  \n",
            "7         14060.300659   25767.024864   21935.759622   22827.781293  \n",
            "10        10329.642418   21461.605831   15493.212776   27414.375247  \n",
            "11        26206.372422   83370.618408   51121.105722   67852.348256  \n",
            "12        10467.879938   46336.873547   45695.801756   50086.361637  \n",
            "13        30606.119338  227045.733387  224891.029478  322172.431642  \n",
            "15        24586.407386   73273.828899   68753.985484   67962.795266  \n",
            "18        33079.452791  240835.102634  156030.040579  278095.358270  \n",
            "19        32255.024467  149804.923665  194218.587624  270161.157209  \n",
            "20         4103.995281   20359.586331   17598.962585   22292.230470  \n",
            "21        18251.804557  148225.533204  123954.279562  139100.707347  \n",
            "23        15381.977763   52433.103691   52188.150059   46071.832322  \n",
            "24        28343.182930  101170.614692   87824.803410  137143.924875  \n",
            "25        56824.702656  239662.908728  194882.004020  381633.958654  \n",
            "26         6707.361817   17285.045612   16605.010744   18350.242393  \n",
            "27        10286.070527   16151.490459   15731.296585   20956.719846  \n",
            "28        19279.941752   57768.543178   53582.356717   68859.298874  \n",
            "29        13418.269716   38883.704467   37960.013947   37046.836341  \n",
            "30        18658.417865   42058.456657   34417.780679   46167.748438  \n",
            "31        11694.967690   33493.547072   32447.412642   35561.860821  \n",
            "32        21191.204277   91362.046468   60904.241719   53341.328914  \n",
            "33        14377.091900    7215.202754   15864.901097   19472.869878  \n",
            "34        59261.694214  253815.983291  214544.090670  247982.671049  \n",
            "36         7940.801560   24721.550337   21062.102476   19561.401306  \n",
            "37        27832.063483   22108.384942   16607.683515   14131.438919  \n",
            "40        26890.856667   68243.618642   52417.921598   72115.850131  \n",
            "41        40225.257438   42301.871711   33188.664449   34157.555662  \n",
            "42        70386.435807  345373.334477  215673.993168  298878.557209  \n",
            "44        24337.362553   70116.806192   63509.019508   71891.447386  \n",
            "45         9919.084395   38555.794005   36669.080773   48958.809066  \n",
            "46        14022.460790   70631.008328   70072.393087   69543.622247  \n",
            "49        22415.119998   43344.591885   36731.812513   45890.820535  \n",
            "\n",
            "\n",
            "               Canal 1       Canal 2       Canal 3       Canal 4  \\\n",
            "# Sujeto                                                           \n",
            "1         12438.243570  11261.175800  10819.634775   9489.784462   \n",
            "4         17995.660058  12001.601821  12286.344400  14785.908284   \n",
            "5         38092.102574  43575.379457  41979.994799  41715.287990   \n",
            "7         23742.325612  22070.007569  24540.315612  21803.936448   \n",
            "12        48574.518921  51806.529769  73171.952374  59707.699631   \n",
            "13        16202.416566  13124.247855  13988.674335  12752.027365   \n",
            "15        10692.948223  10841.187262  12154.390086  24161.685202   \n",
            "16        12157.229828  13398.658526  17668.877657  14841.104693   \n",
            "17         9581.810471  14008.572615   9589.230257   9374.085669   \n",
            "18        23658.738825  23990.255991  30633.745996  22888.894132   \n",
            "20        23446.051598  26091.341850  36640.531850  25660.222773   \n",
            "25        48923.874237  64324.769523  85175.914992  78087.225852   \n",
            "26        14532.459483  17860.192841  30120.983497  29569.273094   \n",
            "28        29402.195610  31214.592172  30663.970154  24697.341514   \n",
            "30        22034.834171  21250.934562  27369.549841  13197.556268   \n",
            "32        33900.139101  32395.467750  29194.827407  23439.114082   \n",
            "33        17699.028112  26643.280393  32468.842059  25561.956895   \n",
            "34        31133.326257  21899.992984  17153.107641  20533.434338   \n",
            "40        49937.833324  46030.495239  46746.506684  43109.302338   \n",
            "41        16776.577493  20468.685954  25320.621029  24036.472073   \n",
            "46        32188.312555  31159.578900  32352.266891  28810.929111   \n",
            "48        10930.227074  14670.548632  21623.897909  15449.251169   \n",
            "49        16001.606312  13678.099220  16024.473570  14482.116106   \n",
            "\n",
            "               Canal 5        Canal 6        Canal 7        Canal 8  \n",
            "# Sujeto                                                             \n",
            "1         12091.060945   22798.213463   23700.620349   25606.065340  \n",
            "4         17058.433161   63983.449318   53715.460772   66403.639479  \n",
            "5         46513.737045  251649.394709  179345.438488  262361.180410  \n",
            "7         22594.339745  128314.264805  128888.485633  152799.284248  \n",
            "12        56552.175747  287105.761622  222745.793414  353312.298104  \n",
            "13        15784.724049   50730.233172   50742.237835   73694.061647  \n",
            "15        14789.173543   43302.825848   42560.941845   39043.973220  \n",
            "16        11297.742247   38701.647608   41828.973929   61328.610990  \n",
            "17         8154.941858   28970.848994   40705.897395   36624.858559  \n",
            "18        19932.315538   65161.432397   60552.834862   58441.048743  \n",
            "20        31330.549186   93696.128392   67690.908167  111124.343428  \n",
            "25        65792.625436  458631.543464  400266.637762  554127.580214  \n",
            "26        30054.971601   22088.181162   18262.518633   18454.068489  \n",
            "28        25296.654765   67961.116232   74866.179511  103522.441839  \n",
            "30        18373.335858   85398.723929   59948.779883   72367.809030  \n",
            "32        25040.406700  122738.018441  103327.500981  100845.843964  \n",
            "33        23415.623101   57294.133077   54829.651258   59700.873328  \n",
            "34        31864.375631   79797.786103   74152.811380   66497.823839  \n",
            "40        42923.267828  424838.119622  283345.547804  408902.026150  \n",
            "41        20723.732743   76391.356727   60599.129053   81585.412935  \n",
            "46        25368.624860   59526.213049   66204.132354   69036.969842  \n",
            "48        13471.035295   28974.383402   31469.428045   32535.921202  \n",
            "49        14723.843472   31443.053250   28191.962386   33117.421322  \n"
          ]
        }
      ]
    },
    {
      "cell_type": "markdown",
      "source": [
        "#**Determinar si existe diferencia estadística entre canales de cada grupo de sujetos**\n",
        "\n",
        "Este numeral tiene como objetivo identificar los canales que entregan información diferencial entre pacientes sanos y con enfermedad de Parkinson"
      ],
      "metadata": {
        "id": "FJfL1L9spe-o"
      }
    },
    {
      "cell_type": "markdown",
      "source": [
        "##**Normalidad (Kolmogorox-Smirrov)**"
      ],
      "metadata": {
        "id": "lLp-jPyZs8xz"
      }
    },
    {
      "cell_type": "code",
      "source": [
        "# Ho = Los datos siguen una distribución normal\n",
        "# Ha = Los datos NO siguen una distribución normal\n",
        "\n",
        "for i in range(1,num_canales+1):\n",
        "\n",
        "  canal_control = dfcontrol[f'Canal {i}']\n",
        "  canal_parkinson = dfparkinson[f'Canal {i}']\n",
        "\n",
        "  stat_control,p_value_control = kstest(canal_control, 'norm')\n",
        "  stat_parkinson,p_value_parkinson = kstest(canal_parkinson, 'norm')\n",
        "\n",
        "  print(f'\\nCanal {i}')\n",
        "  print('Control: Estadístico = {stat_control}, p-valor = {round(p_value_control,3)}')\n",
        "\n",
        "  if p_value_control<0.05:\n",
        "    print(\"     Rechaza hipótesis nula: Los datos NO siguen una distribución normal.\")\n",
        "  else:\n",
        "    print(\"     No se rechaza hipótesis nula: Los datos siguen una distribución normal.\")\n",
        "\n",
        "\n",
        "  print(f'Parkinson: Estadístico = {stat_parkinson}, p-valor = {round(p_value_parkinson,3)}')\n",
        "\n",
        "  if p_value_parkinson<0.05:\n",
        "    print(\"     Rechaza hipótesis nula: Los datos NO siguen una distribución normal.\")\n",
        "  else:\n",
        "    print(\"     No se rechaza hipótesis nula: Los datos siguen una distribución normal.\")\n"
      ],
      "metadata": {
        "colab": {
          "base_uri": "https://localhost:8080/"
        },
        "id": "RYetoV12pWe6",
        "outputId": "c80c42d1-6a8d-417b-9ee4-927c23240737"
      },
      "execution_count": 11,
      "outputs": [
        {
          "output_type": "stream",
          "name": "stdout",
          "text": [
            "\n",
            "Canal 1\n",
            "Control: Estadístico = {stat_control}, p-valor = {round(p_value_control,3)}\n",
            "     Rechaza hipótesis nula: Los datos NO siguen una distribución normal.\n",
            "Parkinson: Estadístico = 1.0, p-valor = 0.0\n",
            "     Rechaza hipótesis nula: Los datos NO siguen una distribución normal.\n",
            "\n",
            "Canal 2\n",
            "Control: Estadístico = {stat_control}, p-valor = {round(p_value_control,3)}\n",
            "     Rechaza hipótesis nula: Los datos NO siguen una distribución normal.\n",
            "Parkinson: Estadístico = 1.0, p-valor = 0.0\n",
            "     Rechaza hipótesis nula: Los datos NO siguen una distribución normal.\n",
            "\n",
            "Canal 3\n",
            "Control: Estadístico = {stat_control}, p-valor = {round(p_value_control,3)}\n",
            "     Rechaza hipótesis nula: Los datos NO siguen una distribución normal.\n",
            "Parkinson: Estadístico = 1.0, p-valor = 0.0\n",
            "     Rechaza hipótesis nula: Los datos NO siguen una distribución normal.\n",
            "\n",
            "Canal 4\n",
            "Control: Estadístico = {stat_control}, p-valor = {round(p_value_control,3)}\n",
            "     Rechaza hipótesis nula: Los datos NO siguen una distribución normal.\n",
            "Parkinson: Estadístico = 1.0, p-valor = 0.0\n",
            "     Rechaza hipótesis nula: Los datos NO siguen una distribución normal.\n",
            "\n",
            "Canal 5\n",
            "Control: Estadístico = {stat_control}, p-valor = {round(p_value_control,3)}\n",
            "     Rechaza hipótesis nula: Los datos NO siguen una distribución normal.\n",
            "Parkinson: Estadístico = 1.0, p-valor = 0.0\n",
            "     Rechaza hipótesis nula: Los datos NO siguen una distribución normal.\n",
            "\n",
            "Canal 6\n",
            "Control: Estadístico = {stat_control}, p-valor = {round(p_value_control,3)}\n",
            "     Rechaza hipótesis nula: Los datos NO siguen una distribución normal.\n",
            "Parkinson: Estadístico = 1.0, p-valor = 0.0\n",
            "     Rechaza hipótesis nula: Los datos NO siguen una distribución normal.\n",
            "\n",
            "Canal 7\n",
            "Control: Estadístico = {stat_control}, p-valor = {round(p_value_control,3)}\n",
            "     Rechaza hipótesis nula: Los datos NO siguen una distribución normal.\n",
            "Parkinson: Estadístico = 1.0, p-valor = 0.0\n",
            "     Rechaza hipótesis nula: Los datos NO siguen una distribución normal.\n",
            "\n",
            "Canal 8\n",
            "Control: Estadístico = {stat_control}, p-valor = {round(p_value_control,3)}\n",
            "     Rechaza hipótesis nula: Los datos NO siguen una distribución normal.\n",
            "Parkinson: Estadístico = 1.0, p-valor = 0.0\n",
            "     Rechaza hipótesis nula: Los datos NO siguen una distribución normal.\n"
          ]
        }
      ]
    },
    {
      "cell_type": "markdown",
      "source": [
        "##**Homocedasticidad (Levene)**\n",
        "\n",
        "\n",
        "Dado que no se cumple el criterio de normalidad, se emplea el test de Levene."
      ],
      "metadata": {
        "id": "GYHRs9TxtC7h"
      }
    },
    {
      "cell_type": "code",
      "source": [
        "# Ho = La varianza es igual entre diferentes grupos (homocedasticidad)\n",
        "# Ha = La varianza NO es igual en los diferentes grupos (heterocedasticidad)\n",
        "\n",
        "for i in range(1, num_canales+1):\n",
        "\n",
        "  canal_control = dfcontrol[f'Canal {i}']\n",
        "  canal_parkinson = dfparkinson[f'Canal {i}']\n",
        "\n",
        "  stat_levene,p_value_levene = levene(canal_control, canal_parkinson)\n",
        "\n",
        "  print(f'\\nCanal {i}: Estadístico = {round(stat_levene,3)}, p-valor = {round(p_value_levene,3)}')\n",
        "  if p_value_levene<0.05:\n",
        "    print('Se rechaza la hipostesis nula: La varianza difiere para los diferentes grupos')\n",
        "  else:\n",
        "    print('No se rechaza la hipotesis nula: La varianza es igual para los diferentes grupos ')\n"
      ],
      "metadata": {
        "colab": {
          "base_uri": "https://localhost:8080/"
        },
        "id": "UCx2mYBWs7Hj",
        "outputId": "71d768f8-d0e6-4f85-a7ac-2c1aac09735a"
      },
      "execution_count": 12,
      "outputs": [
        {
          "output_type": "stream",
          "name": "stdout",
          "text": [
            "\n",
            "Canal 1: Estadístico = 0.021, p-valor = 0.885\n",
            "No se rechaza la hipotesis nula: La varianza es igual para los diferentes grupos \n",
            "\n",
            "Canal 2: Estadístico = 0.003, p-valor = 0.959\n",
            "No se rechaza la hipotesis nula: La varianza es igual para los diferentes grupos \n",
            "\n",
            "Canal 3: Estadístico = 0.001, p-valor = 0.978\n",
            "No se rechaza la hipotesis nula: La varianza es igual para los diferentes grupos \n",
            "\n",
            "Canal 4: Estadístico = 0.095, p-valor = 0.759\n",
            "No se rechaza la hipotesis nula: La varianza es igual para los diferentes grupos \n",
            "\n",
            "Canal 5: Estadístico = 0.015, p-valor = 0.905\n",
            "No se rechaza la hipotesis nula: La varianza es igual para los diferentes grupos \n",
            "\n",
            "Canal 6: Estadístico = 0.524, p-valor = 0.472\n",
            "No se rechaza la hipotesis nula: La varianza es igual para los diferentes grupos \n",
            "\n",
            "Canal 7: Estadístico = 0.252, p-valor = 0.618\n",
            "No se rechaza la hipotesis nula: La varianza es igual para los diferentes grupos \n",
            "\n",
            "Canal 8: Estadístico = 0.287, p-valor = 0.594\n",
            "No se rechaza la hipotesis nula: La varianza es igual para los diferentes grupos \n"
          ]
        }
      ]
    },
    {
      "cell_type": "markdown",
      "source": [
        "Las pruebas realizadas para cada uno de los canales comparando pacientes sanos y con enfermedad de Parkinson, indican que las varianzas son homogéneas entre ambos grupos, dando a entender que todos peresentan homocedasticidad. Esto sugiere que las diferencias entre los grupos no se manifiestan directamente en términos de la varianza de las señales de EEG en los canales analizados."
      ],
      "metadata": {
        "id": "amuJBJcVjxPw"
      }
    },
    {
      "cell_type": "markdown",
      "source": [
        "**Independencia** (se asume que los grupos son independientes)"
      ],
      "metadata": {
        "id": "hnmhOTctHy91"
      }
    },
    {
      "cell_type": "markdown",
      "source": [
        "No se puede realizar la prueba t ya que no se cumplen los tres requisitos (la prueba de normalidad dice que los datos no presentan una distribución normal). Por lo tanto se realiza la **Prueba U de Mann-Whitney**"
      ],
      "metadata": {
        "id": "_BTBmuDLGsF_"
      }
    },
    {
      "cell_type": "markdown",
      "source": [
        "##**Prueba U de Mann-Whitney**"
      ],
      "metadata": {
        "id": "NMHHLTepwifS"
      }
    },
    {
      "cell_type": "code",
      "source": [
        "# Ho = Los grupos provienen de una misma distribución (pertecenen a una misma población)\n",
        "# Ha = Hay diferencias significativas entre los grupos, provienen de distribuciones diferentes (No pertenecen a una misma población)\n",
        "\n",
        "for i in range(1, num_canales+1):\n",
        "\n",
        "  canal_control = dfcontrol[f'Canal {i}']\n",
        "  canal_parkinson = dfparkinson[f'Canal {i}']\n",
        "\n",
        "  stat,p_value = mannwhitneyu(canal_control, canal_parkinson)\n",
        "\n",
        "  print(f'\\nCanal {i}: Estadístico = {stat}, p-valor = {round(p_value,3)}')\n",
        "  if p_value<0.05:\n",
        "    print('Se rechaza la hipótesis nula: hay diferencias significativas entre los grupos.')\n",
        "  else:\n",
        "    print('No se rechaza la hipótesis nula: no hay diferencias significativas entre los grupos.')"
      ],
      "metadata": {
        "id": "hZTN8B_cwmvG",
        "colab": {
          "base_uri": "https://localhost:8080/"
        },
        "outputId": "3c276edd-6770-423b-91de-9531fe4c91d0"
      },
      "execution_count": 13,
      "outputs": [
        {
          "output_type": "stream",
          "name": "stdout",
          "text": [
            "\n",
            "Canal 1: Estadístico = 360.0, p-valor = 0.406\n",
            "No se rechaza la hipótesis nula: no hay diferencias significativas entre los grupos.\n",
            "\n",
            "Canal 2: Estadístico = 377.0, p-valor = 0.571\n",
            "No se rechaza la hipótesis nula: no hay diferencias significativas entre los grupos.\n",
            "\n",
            "Canal 3: Estadístico = 366.0, p-valor = 0.46\n",
            "No se rechaza la hipótesis nula: no hay diferencias significativas entre los grupos.\n",
            "\n",
            "Canal 4: Estadístico = 337.0, p-valor = 0.234\n",
            "No se rechaza la hipótesis nula: no hay diferencias significativas entre los grupos.\n",
            "\n",
            "Canal 5: Estadístico = 376.0, p-valor = 0.56\n",
            "No se rechaza la hipótesis nula: no hay diferencias significativas entre los grupos.\n",
            "\n",
            "Canal 6: Estadístico = 344.0, p-valor = 0.28\n",
            "No se rechaza la hipótesis nula: no hay diferencias significativas entre los grupos.\n",
            "\n",
            "Canal 7: Estadístico = 313.0, p-valor = 0.118\n",
            "No se rechaza la hipótesis nula: no hay diferencias significativas entre los grupos.\n",
            "\n",
            "Canal 8: Estadístico = 321.0, p-valor = 0.151\n",
            "No se rechaza la hipótesis nula: no hay diferencias significativas entre los grupos.\n"
          ]
        }
      ]
    },
    {
      "cell_type": "markdown",
      "source": [
        "Los resultados de las pruebas indican que ningún canal entrega información diferencial para pacientes sanos y con enfermedad Parkinson. Esto sugiere que, al menos bajo el enfoque estadístico actual, no existen diferencias detectables en la señal de EEG entre pacientes sanos y aquellos con Parkinson. Esto puede estar asociado a que se trabajó con una muestra de tamaño pequeño, en la cual puede ser difícil detectar dicha información diferencial debido a la variabilidad que se puede presentar dentro de cada grupo, un mayor tamaño de muestra podría aumentar la visión estadística y mejorar la identificación de dichas diferencias [1], también se debe tener en cuenta que no se tiene conocimiento de la fase de la enfermedad en la que se encontraban los pacientes con Parkinson. Además, puede que las diferentes más marcadas entre estos grupos no sean evidentes a nivel de la actividad cerebral capturada superficialmente, sino que estén localizados en áreas más profundas del cerebro, o se podrían manifestar en otras propiedades no lineales como la entropía u otros dominios como el análisis espectral\n",
        "\n"
      ],
      "metadata": {
        "id": "zurizPwYLfjT"
      }
    },
    {
      "cell_type": "markdown",
      "source": [
        "## Conclusión"
      ],
      "metadata": {
        "id": "Ow-LJLWmHT1h"
      }
    },
    {
      "cell_type": "markdown",
      "source": [
        "La falta de diferencias significativas entre el grupo de pacientes sanos y aquellos con Parkinson no necesariamente indica la ausencia de diferencias reales, sino que podría reflejar las limitaciones de las pruebas estadísticas utilizadas y de las características seleccionadas para el análisis. Esto resalta la importancia de considerar factores como el tamaño de la muestra y las características clínicas de los pacientes, especialmente en enfermedades con alta variabilidad, como el Parkinson. De esta manera, se resalta la importancia del análisis de diferentes variables estadísticas que sirven como indicadores y métricas clave en la evaluación de señales de EEG.\n"
      ],
      "metadata": {
        "id": "5zo3iNVqHWd7"
      }
    },
    {
      "cell_type": "markdown",
      "source": [
        "# **Referencias**\n",
        "\n",
        "[1] C. Fuentelsaz Gallego. “Cálculo del tamaño de la muestra”. Dr. Erwin Chiquete | Neurología | Medicina Interna – Neuroclínica | Cascada 405, Jardines del Pedregal, Consultorio 301 | Tel. citas: 5556589060 | 5556596301. Accedido el 20 de septiembre de 2024. [En línea]. Disponible: https://neuroclinica.org/wp-content/uploads/2021/09/calculo_muestra.pdf"
      ],
      "metadata": {
        "id": "eUverQMngPj5"
      }
    }
  ],
  "metadata": {
    "colab": {
      "provenance": []
    },
    "kernelspec": {
      "display_name": "Python 3",
      "name": "python3"
    },
    "language_info": {
      "name": "python"
    }
  },
  "nbformat": 4,
  "nbformat_minor": 0
}