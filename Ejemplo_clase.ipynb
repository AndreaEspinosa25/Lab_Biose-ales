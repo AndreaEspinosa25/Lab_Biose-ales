{
  "nbformat": 4,
  "nbformat_minor": 0,
  "metadata": {
    "colab": {
      "provenance": [],
      "authorship_tag": "ABX9TyOg0hy35sVLTOjTtfPVfPoj",
      "include_colab_link": true
    },
    "kernelspec": {
      "name": "python3",
      "display_name": "Python 3"
    },
    "language_info": {
      "name": "python"
    }
  },
  "cells": [
    {
      "cell_type": "markdown",
      "metadata": {
        "id": "view-in-github",
        "colab_type": "text"
      },
      "source": [
        "<a href=\"https://colab.research.google.com/github/AndreaEspinosa25/Lab_Biose-ales/blob/main/Ejemplo_clase.ipynb\" target=\"_parent\"><img src=\"https://colab.research.google.com/assets/colab-badge.svg\" alt=\"Open In Colab\"/></a>"
      ]
    },
    {
      "cell_type": "code",
      "execution_count": null,
      "metadata": {
        "id": "FBFswRF6K3gU"
      },
      "outputs": [],
      "source": []
    },
    {
      "cell_type": "markdown",
      "source": [
        "#Titulo\n",
        "##Titulo\n",
        "###Titulo\n",
        "*hola*\n"
      ],
      "metadata": {
        "id": "Gj5T8gBtLLn1"
      }
    },
    {
      "cell_type": "code",
      "source": [],
      "metadata": {
        "id": "QvKndLShWwK6"
      },
      "execution_count": null,
      "outputs": []
    }
  ]
}